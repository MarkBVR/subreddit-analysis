{
 "cells": [
  {
   "cell_type": "code",
   "execution_count": 1,
   "id": "unknown-patrol",
   "metadata": {},
   "outputs": [],
   "source": [
    "import praw\n",
    "import AccountDetails\n",
    "import json\n",
    "import pandas as pd\n",
    "import prawcore\n",
    "\n",
    "\n",
    "\n",
    "reddit= praw.Reddit(\n",
    "\tusername = AccountDetails.REDDIT_USERNAME,\n",
    "\tpassword = AccountDetails.REDDIT_PASSWORD,\n",
    "\tuser_agent = AccountDetails.USER_AGENT,\n",
    "\tclient_id = AccountDetails.CLIENT_ID,\n",
    "\tclient_secret = AccountDetails.CLIENT_SECRET,\n",
    ")\n"
   ]
  },
  {
   "cell_type": "code",
   "execution_count": 2,
   "id": "essential-beverage",
   "metadata": {},
   "outputs": [
    {
     "name": "stdout",
     "output_type": "stream",
     "text": [
      "0\n",
      "50\n",
      "100\n",
      "150\n",
      "200\n",
      "250\n",
      "300\n",
      "350\n",
      "400\n",
      "450\n",
      "500\n",
      "550\n",
      "600\n",
      "650\n",
      "700\n",
      "750\n",
      "800\n",
      "850\n",
      "900\n",
      "950\n"
     ]
    }
   ],
   "source": [
    "count = 0\n",
    "with open('post-logger.txt', 'w', encoding='UTF-8') as outfile:\n",
    "    for sub in reddit.subreddit('formula1').new(limit=1000):\n",
    "        if count%50 == 0 or count == 0:\n",
    "            print(count)\n",
    "        try:\n",
    "            count += 1\n",
    "            title = sub.title\n",
    "            created = sub.created_utc\n",
    "            sub_id = sub.id \n",
    "            oc = sub.is_original_content\n",
    "            nsfw = sub.over_18\n",
    "            permalink = sub.permalink\n",
    "            score = sub.score\n",
    "            subred = sub.subreddit\n",
    "            ratio = sub.upvote_ratio\n",
    "            url = sub.url\n",
    "            num_comments = sub.num_comments\n",
    "            flair = sub.link_flair_text\n",
    "            outfile.write(str(title) + '\\t' + str(created) + '\\t' + sub_id + '\\t' + str(oc) + '\\t' + str(nsfw) + '\\t' + \n",
    "                permalink + '\\t' + str(score) + '\\t' + str(subred) + '\\t' + str(ratio) + '\\t' + url + '\\t' + \n",
    "                          str(num_comments) + '\\t' + str(flair) + '\\n')\n",
    "        except prawcore.exceptions.Forbidden:\n",
    "            continue"
   ]
  },
  {
   "cell_type": "code",
   "execution_count": null,
   "id": "active-international",
   "metadata": {},
   "outputs": [],
   "source": []
  },
  {
   "cell_type": "code",
   "execution_count": null,
   "id": "spectacular-penalty",
   "metadata": {},
   "outputs": [],
   "source": []
  },
  {
   "cell_type": "code",
   "execution_count": null,
   "id": "dirty-promise",
   "metadata": {},
   "outputs": [],
   "source": []
  },
  {
   "cell_type": "code",
   "execution_count": null,
   "id": "anticipated-harvey",
   "metadata": {},
   "outputs": [],
   "source": []
  },
  {
   "cell_type": "code",
   "execution_count": null,
   "id": "unnecessary-proposal",
   "metadata": {},
   "outputs": [],
   "source": []
  }
 ],
 "metadata": {
  "kernelspec": {
   "display_name": "Python 3",
   "language": "python",
   "name": "python3"
  },
  "language_info": {
   "codemirror_mode": {
    "name": "ipython",
    "version": 3
   },
   "file_extension": ".py",
   "mimetype": "text/x-python",
   "name": "python",
   "nbconvert_exporter": "python",
   "pygments_lexer": "ipython3",
   "version": "3.8.5"
  }
 },
 "nbformat": 4,
 "nbformat_minor": 5
}
