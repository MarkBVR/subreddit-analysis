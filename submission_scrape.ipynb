{
 "cells": [
  {
   "cell_type": "code",
   "execution_count": 1,
   "id": "unknown-patrol",
   "metadata": {},
   "outputs": [],
   "source": [
    "import praw              # - Reddit API wrapper for python\n",
    "import AccountDetails    # - Access AccountDetails.py file which stores Auth credentials\n",
    "import prawcore          # - Used to handle Forbidden exceptions\n",
    "\n",
    "\n",
    "# Add your own credentials into the AccountDetails.py file\n",
    "reddit= praw.Reddit(\n",
    "\tusername = AccountDetails.REDDIT_USERNAME,\n",
    "\tpassword = AccountDetails.REDDIT_PASSWORD,\n",
    "\tuser_agent = AccountDetails.USER_AGENT,\n",
    "\tclient_id = AccountDetails.CLIENT_ID,\n",
    "\tclient_secret = AccountDetails.CLIENT_SECRET,\n",
    ")\n"
   ]
  },
  {
   "cell_type": "code",
   "execution_count": 2,
   "id": "essential-beverage",
   "metadata": {},
   "outputs": [
    {
     "name": "stdout",
     "output_type": "stream",
     "text": [
      "0\n",
      "50\n",
      "100\n",
      "150\n",
      "200\n",
      "250\n",
      "300\n",
      "350\n",
      "400\n",
      "450\n",
      "500\n",
      "550\n",
      "600\n",
      "650\n",
      "700\n",
      "750\n",
      "800\n",
      "850\n",
      "900\n",
      "950\n",
      "All Done! It worked like a charm\n"
     ]
    }
   ],
   "source": [
    "# Start counter which will print its number every 50 submissions\n",
    "count = 0\n",
    "# Opens or creates post-logger.txt to write each submission.\n",
    "# Uses UTF-8 encoding so that it can handle emojis. Not sure why, but it does\n",
    "with open('post-logger.txt', 'w', encoding='UTF-8') as outfile:\n",
    "    # Writes the column names to the first line\n",
    "    outfile.write('title\\tcreated\\tsub_id\\toc\\tnsfw\\tpermalink\\tscore\\tsubreddit\\tratio_upvotes\\turl\\tnum_comments\\tflair\\n')\n",
    "    # requests first 1000 submissions from r/formula1 in the top category\n",
    "    for sub in reddit.subreddit('formula1').top(limit=1000):\n",
    "        # Prints the count every 50 submissions\n",
    "        if count%50 == 0 or count == 0:\n",
    "            print(count)\n",
    "        try:\n",
    "            count += 1                      # - Adds 1 to the count\n",
    "            title = sub.title               # - Retrieves title of submission\n",
    "            created = sub.created_utc       # - Retrieves Unix time submission was created\n",
    "            sub_id = sub.id                 # - Retrieves Submission ID, which can be used with reddit.submission \n",
    "                                            #   to request it again\n",
    "            oc = sub.is_original_content    # - Retrieves Boolean, True if Origial Content\n",
    "            nsfw = sub.over_18              # - Retrieves Boolean, True if NSFW\n",
    "            permalink = sub.permalink       # - Retrieves permalink of submission\n",
    "            score = sub.score               # - Retrieves score of submission\n",
    "            subred = sub.subreddit          # - Retrieves Subreddit the submission is from\n",
    "            ratio = sub.upvote_ratio        # - Returns a decimal value between 1 and 0\n",
    "            url = sub.url                   # - Returns url that is linked to the post or permalink if a selfpost\n",
    "            num_comments = sub.num_comments # - Returns the number of comments on the post\n",
    "            flair = sub.link_flair_text     # - Returns the string of the submission's flair\n",
    "            # Writes all of the returned variables to the opened file. Each variable is tab separated \n",
    "            # and converted to a string.\n",
    "            outfile.write(str(title) + '\\t' + str(created) + '\\t' + sub_id + '\\t' + str(oc) + '\\t' + str(nsfw) + '\\t' + \n",
    "                permalink + '\\t' + str(score) + '\\t' + str(subred) + '\\t' + str(ratio) + '\\t' + url + '\\t' + \n",
    "                          str(num_comments) + '\\t' + str(flair) + '\\n')\n",
    "        # If the submission is forbidden it skips it and continues on to the next\n",
    "        except prawcore.exceptions.Forbidden:\n",
    "            continue\n",
    "    print('All Done! It worked like a charm')"
   ]
  },
  {
   "cell_type": "code",
   "execution_count": null,
   "id": "active-international",
   "metadata": {},
   "outputs": [],
   "source": []
  },
  {
   "cell_type": "code",
   "execution_count": null,
   "id": "spectacular-penalty",
   "metadata": {},
   "outputs": [],
   "source": []
  },
  {
   "cell_type": "code",
   "execution_count": null,
   "id": "dirty-promise",
   "metadata": {},
   "outputs": [],
   "source": []
  },
  {
   "cell_type": "code",
   "execution_count": null,
   "id": "anticipated-harvey",
   "metadata": {},
   "outputs": [],
   "source": []
  },
  {
   "cell_type": "code",
   "execution_count": null,
   "id": "unnecessary-proposal",
   "metadata": {},
   "outputs": [],
   "source": []
  }
 ],
 "metadata": {
  "kernelspec": {
   "display_name": "Python 3",
   "language": "python",
   "name": "python3"
  },
  "language_info": {
   "codemirror_mode": {
    "name": "ipython",
    "version": 3
   },
   "file_extension": ".py",
   "mimetype": "text/x-python",
   "name": "python",
   "nbconvert_exporter": "python",
   "pygments_lexer": "ipython3",
   "version": "3.8.5"
  }
 },
 "nbformat": 4,
 "nbformat_minor": 5
}
