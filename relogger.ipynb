{
 "cells": [
  {
   "cell_type": "code",
   "execution_count": null,
   "id": "stopped-spectrum",
   "metadata": {},
   "outputs": [],
   "source": [
    "import praw\n",
    "import AccountDetails\n",
    "import json\n",
    "import pandas as pd\n",
    "import prawcore\n",
    "\n",
    "\n",
    "\n",
    "reddit= praw.Reddit(\n",
    "\tusername = AccountDetails.REDDIT_USERNAME,\n",
    "\tpassword = AccountDetails.REDDIT_PASSWORD,\n",
    "\tuser_agent = AccountDetails.USER_AGENT,\n",
    "\tclient_id = AccountDetails.CLIENT_ID,\n",
    "\tclient_secret = AccountDetails.CLIENT_SECRET,\n",
    ")\n"
   ]
  }
 ],
 "metadata": {
  "kernelspec": {
   "display_name": "Python 3",
   "language": "python",
   "name": "python3"
  },
  "language_info": {
   "codemirror_mode": {
    "name": "ipython",
    "version": 3
   },
   "file_extension": ".py",
   "mimetype": "text/x-python",
   "name": "python",
   "nbconvert_exporter": "python",
   "pygments_lexer": "ipython3",
   "version": "3.8.5"
  }
 },
 "nbformat": 4,
 "nbformat_minor": 5
}
